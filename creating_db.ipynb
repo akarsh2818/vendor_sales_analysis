{
 "cells": [
  {
   "cell_type": "code",
   "execution_count": 1,
   "id": "a1749b3c",
   "metadata": {},
   "outputs": [
    {
     "name": "stdout",
     "output_type": "stream",
     "text": [
      "Requirement already satisfied: sqlalchemy in c:\\python310\\lib\\site-packages (2.0.41)\n",
      "Requirement already satisfied: typing-extensions>=4.6.0 in c:\\python310\\lib\\site-packages (from sqlalchemy) (4.8.0)\n",
      "Requirement already satisfied: greenlet>=1 in c:\\python310\\lib\\site-packages (from sqlalchemy) (3.2.3)\n"
     ]
    },
    {
     "name": "stderr",
     "output_type": "stream",
     "text": [
      "WARNING: You are using pip version 22.0.4; however, version 25.1.1 is available.\n",
      "You should consider upgrading via the 'C:\\Python310\\python.exe -m pip install --upgrade pip' command.\n"
     ]
    }
   ],
   "source": [
    "!pip install sqlalchemy \n",
    "import os\n",
    "import numpy as np\n",
    "import pandas as pd\n",
    "from sqlalchemy import create_engine\n",
    "import warnings\n",
    "warnings.filterwarnings(\"ignore\")\n",
    "import logging\n",
    "\n",
    "logging.basicConfig(\n",
    "    filename=\"logs/ingestion_db.log\",\n",
    "    level=logging.DEBUG,\n",
    "    format='%(asctime)s - %(levelname)s - %(message)s',\n",
    "    filemode=\"a\"\n",
    "    \n",
    ")\n",
    "import time\n",
    "\n"
   ]
  },
  {
   "cell_type": "code",
   "execution_count": 2,
   "id": "5f89939c",
   "metadata": {},
   "outputs": [],
   "source": [
    "engine=create_engine('sqlite:///inventory.db')"
   ]
  },
  {
   "cell_type": "code",
   "execution_count": 3,
   "id": "7686988b",
   "metadata": {},
   "outputs": [
    {
     "data": {
      "text/plain": [
       "Engine(sqlite:///inventory.db)"
      ]
     },
     "execution_count": 3,
     "metadata": {},
     "output_type": "execute_result"
    }
   ],
   "source": [
    "engine"
   ]
  },
  {
   "cell_type": "code",
   "execution_count": 4,
   "id": "f9d47fae",
   "metadata": {},
   "outputs": [],
   "source": [
    "import os\n",
    "import time\n",
    "import pandas as pd\n",
    "import logging\n",
    "from sqlalchemy import create_engine\n",
    "\n",
    "# Setup logging\n",
    "logging.basicConfig(level=logging.INFO)\n",
    "\n",
    "# Create engine (change this to your actual database)\n",
    "engine = create_engine('sqlite:///inventory.db')  # Example for SQLite\n",
    "\n",
    "def ingest_db(df, table_name, engine, if_exists='append'):\n",
    "    df.to_sql(table_name, con=engine, if_exists=if_exists, index=False)\n",
    "\n",
    "def load_raw_data():\n",
    "    start = time.time()\n",
    "\n",
    "    for file in os.listdir('data'):\n",
    "        table_name = os.path.splitext(file)[0]\n",
    "        file_path = os.path.join('data', file)\n",
    "\n",
    "        if os.path.splitext(file)[1].lower() == '.csv':\n",
    "            logging.info(f\"Processing file: {file}\")\n",
    "\n",
    "            try:\n",
    "                file_size = os.path.getsize(file_path)\n",
    "\n",
    "                # If file is large, use chunking\n",
    "                if file_size > 100 * 1024 * 1024:  # 100MB\n",
    "                    chunksize = 100000\n",
    "                    logging.info(f\"Large file detected. Loading in chunks of {chunksize} rows.\")\n",
    "                    first_chunk = True\n",
    "                    for chunk in pd.read_csv(file_path, chunksize=chunksize):\n",
    "                        ingest_db(chunk, table_name, engine, if_exists='replace' if first_chunk else 'append')\n",
    "                        first_chunk = False\n",
    "                else:\n",
    "                    df = pd.read_csv(file_path)\n",
    "                    ingest_db(df, table_name, engine, if_exists='replace')\n",
    "\n",
    "                logging.info(f\"Finished ingesting: {file}\")\n",
    "\n",
    "            except Exception as e:\n",
    "                logging.error(f\"Error processing {file}: {e}\")\n",
    "\n",
    "    end = time.time()\n",
    "    total_time = (end - start) / 60\n",
    "    logging.info(\"Ingestion complete\")\n",
    "    logging.info(f\"Total time taken: {total_time:.2f} minutes\")\n",
    "\n",
    "\n",
    "load_raw_data()\n",
    "\n"
   ]
  },
  {
   "cell_type": "code",
   "execution_count": 5,
   "id": "5d6f47c2",
   "metadata": {},
   "outputs": [
    {
     "name": "stdout",
     "output_type": "stream",
     "text": [
      "('example', '.csv')\n"
     ]
    }
   ],
   "source": [
    "import os\n",
    "import pandas as pd\n",
    "\n",
    "print(os.path.splitext(\"example.csv\"))  # Just test this line\n"
   ]
  },
  {
   "cell_type": "code",
   "execution_count": 6,
   "id": "52fbc7c1",
   "metadata": {},
   "outputs": [],
   "source": [
    "# def ingest_db(df,table_name,engine):#this function is built to ingest the dataframe to database table\n",
    "#     df.to_sql(table_name,con=engine,if_exists='replace',index=False)"
   ]
  },
  {
   "cell_type": "code",
   "execution_count": null,
   "id": "4fb0972a",
   "metadata": {},
   "outputs": [],
   "source": []
  }
 ],
 "metadata": {
  "kernelspec": {
   "display_name": "Python 3 (ipykernel)",
   "language": "python",
   "name": "python3"
  },
  "language_info": {
   "codemirror_mode": {
    "name": "ipython",
    "version": 3
   },
   "file_extension": ".py",
   "mimetype": "text/x-python",
   "name": "python",
   "nbconvert_exporter": "python",
   "pygments_lexer": "ipython3",
   "version": "3.10.5"
  }
 },
 "nbformat": 4,
 "nbformat_minor": 5
}
